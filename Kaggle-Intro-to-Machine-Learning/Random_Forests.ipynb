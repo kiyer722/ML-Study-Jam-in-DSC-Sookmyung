{
  "nbformat": 4,
  "nbformat_minor": 0,
  "metadata": {
    "colab": {
      "name": "Random Forests",
      "provenance": [],
      "authorship_tag": "ABX9TyNqzY0Svt4AG/QEyWN8BPyh"
    },
    "kernelspec": {
      "name": "python3",
      "display_name": "Python 3"
    },
    "language_info": {
      "name": "python"
    }
  },
  "cells": [
    {
      "cell_type": "code",
      "metadata": {
        "id": "wvQuTuy8-otL"
      },
      "source": [
        "#본 내용은 kaggle Intro to Machine Learning course(by Dan Becker)를 기록해 놓은 것임을 밝힙니다. (https://www.kaggle.com/dansbecker/basic-data-exploration)"
      ],
      "execution_count": null,
      "outputs": []
    },
    {
      "cell_type": "code",
      "metadata": {
        "colab": {
          "base_uri": "https://localhost:8080/"
        },
        "id": "iRTMPgZH-yqW",
        "outputId": "8048645f-0ca5-410b-d91e-1d122d39b149"
      },
      "source": [
        "from google.colab import drive \n",
        "drive.mount('/content/drive')\n",
        "#구글 코랩환경 드라이브 연결"
      ],
      "execution_count": 1,
      "outputs": [
        {
          "output_type": "stream",
          "text": [
            "Mounted at /content/drive\n"
          ],
          "name": "stdout"
        }
      ]
    },
    {
      "cell_type": "markdown",
      "metadata": {
        "id": "0zgts_IF-03R"
      },
      "source": [
        "# Introduction"
      ]
    },
    {
      "cell_type": "markdown",
      "metadata": {
        "id": "k2DEaGQS-_A5"
      },
      "source": [
        "Decision tree는 문제점을 가지고 있는데 잎이 많고 깊은 경우 예측이 상대적으로 매우 작은 데이터까지 나누게 되어 과적합합니다. 잎이 거의 없는 깊이가 얕은경우 data의 차이와 패턴을 포착하지 못하기 때문에 성능이 저하됩니다. "
      ]
    },
    {
      "cell_type": "markdown",
      "metadata": {
        "id": "7wphfFkf_rTJ"
      },
      "source": [
        "random forest는 많은 트리를 사용하여 각 트리의 예측의 평균치로 예측합니다. 올바른 parameter에 민감합니다."
      ]
    },
    {
      "cell_type": "markdown",
      "metadata": {
        "id": "XEnLW5I8CXS0"
      },
      "source": [
        "# Example"
      ]
    },
    {
      "cell_type": "code",
      "metadata": {
        "id": "yGkf1Qw-Cbuv"
      },
      "source": [
        "import pandas as pd\n",
        "\n",
        "melbourne_file_path = '/content/drive/MyDrive/Intro to Machine Learning(kaggle)/data/melb_data.csv'\n",
        "melbourne_data = pd.read_csv(melbourne_file_path) \n",
        "\n",
        "melbourne_data = melbourne_data.dropna(axis=0)\n",
        "\n",
        "y = melbourne_data.Price\n",
        "melbourne_features = ['Rooms', 'Bathroom', 'Landsize', 'BuildingArea', \n",
        "                        'YearBuilt', 'Lattitude', 'Longtitude']\n",
        "X = melbourne_data[melbourne_features]\n",
        "\n",
        "from sklearn.model_selection import train_test_split\n",
        "\n",
        "train_X, val_X, train_y, val_y = train_test_split(X, y,random_state = 0)"
      ],
      "execution_count": 2,
      "outputs": []
    },
    {
      "cell_type": "code",
      "metadata": {
        "colab": {
          "base_uri": "https://localhost:8080/"
        },
        "id": "2Ycu8O4DC3cf",
        "outputId": "cbc19a4c-7a20-4984-fe67-802ab15507de"
      },
      "source": [
        "from sklearn.ensemble import RandomForestRegressor\n",
        "from sklearn.metrics import mean_absolute_error\n",
        "\n",
        "forest_model=RandomForestRegressor(random_state=1)\n",
        "forest_model.fit(train_X, train_y)\n",
        "melb_preds=forest_model.predict(val_X)\n",
        "print(mean_absolute_error(val_y, melb_preds))"
      ],
      "execution_count": 3,
      "outputs": [
        {
          "output_type": "stream",
          "text": [
            "191669.7536453626\n"
          ],
          "name": "stdout"
        }
      ]
    }
  ]
}