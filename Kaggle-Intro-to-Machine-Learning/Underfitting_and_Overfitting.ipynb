{
  "nbformat": 4,
  "nbformat_minor": 0,
  "metadata": {
    "colab": {
      "name": "Underfitting and Overfitting",
      "provenance": [],
      "authorship_tag": "ABX9TyPkFNPJR9sFtbh5/tdG84M3"
    },
    "kernelspec": {
      "name": "python3",
      "display_name": "Python 3"
    },
    "language_info": {
      "name": "python"
    }
  },
  "cells": [
    {
      "cell_type": "code",
      "metadata": {
        "id": "Uk19HqOe4VeQ"
      },
      "source": [
        "#본 내용은 kaggle Intro to Machine Learning course(by Dan Becker)를 기록해 놓은 것임을 밝힙니다. (https://www.kaggle.com/dansbecker/basic-data-exploration)"
      ],
      "execution_count": null,
      "outputs": []
    },
    {
      "cell_type": "code",
      "metadata": {
        "colab": {
          "base_uri": "https://localhost:8080/"
        },
        "id": "Wy3ZvfAF4e5X",
        "outputId": "6ca7c7ea-bd60-42ef-fa2e-c950f27095f2"
      },
      "source": [
        "from google.colab import drive \n",
        "drive.mount('/content/drive')\n",
        "#구글 코랩환경 드라이브 연결"
      ],
      "execution_count": 8,
      "outputs": [
        {
          "output_type": "stream",
          "text": [
            "Drive already mounted at /content/drive; to attempt to forcibly remount, call drive.mount(\"/content/drive\", force_remount=True).\n"
          ],
          "name": "stdout"
        }
      ]
    },
    {
      "cell_type": "markdown",
      "metadata": {
        "id": "ftuE0pcZ1zyt"
      },
      "source": [
        "# Experimenting With Different Models"
      ]
    },
    {
      "cell_type": "markdown",
      "metadata": {
        "id": "eYqnvvfT24pA"
      },
      "source": [
        "\n",
        "\n",
        "*   overfitting(오버피팅): model이 training data와 너무 완벽하게 일치하여 new data 혹은 validation data와는 많은 차이점을 보이는 현상\n",
        "*   underfitting(언더피팅): model이 data의 차이와 패턴을 캡처하지 못하여 training data에서도 성능이 떨어지는 현상\n",
        "\n"
      ]
    },
    {
      "cell_type": "markdown",
      "metadata": {
        "id": "SK0xJxMu4F5X"
      },
      "source": [
        "# Example"
      ]
    },
    {
      "cell_type": "code",
      "metadata": {
        "id": "qKu9l9Zc1m5g"
      },
      "source": [
        "#max_leaf_nodes가 다를때 MAE값 비교\n",
        "from sklearn.metrics import mean_absolute_error\n",
        "from sklearn.tree import DecisionTreeRegressor\n",
        "\n",
        "def get_mae(max_leaf_nodes, train_X, val_X, train_y, val_y):\n",
        "  model = DecisionTreeRegressor(max_leaf_nodes=max_leaf_nodes, random_state=0)\n",
        "  model.fit(train_X, train_y)\n",
        "  preds_val = model.predict(val_X)\n",
        "  mae = mean_absolute_error(val_y, preds_val)\n",
        "  return(mae)"
      ],
      "execution_count": 9,
      "outputs": []
    },
    {
      "cell_type": "code",
      "metadata": {
        "id": "-6_7kkpS50gL"
      },
      "source": [
        "import pandas as pd\n",
        "\n",
        "melboure_file_path='/content/drive/MyDrive/Intro to Machine Learning(kaggle)/data/melb_data.csv'\n",
        "melboure_data=pd.read_csv(melboure_file_path)\n",
        "\n",
        "filtered_melbourne_data=melboure_data.dropna(axis=0)\n",
        "\n",
        "y=filtered_melbourne_data.Price\n",
        "melbourne_features=['Rooms','Bathroom','Landsize','BuildingArea','YearBuilt','Lattitude','Longtitude']\n",
        "X=filtered_melbourne_data[melbourne_features]\n",
        "\n",
        "from sklearn.model_selection import train_test_split\n",
        "\n",
        "\n",
        "train_X, val_X, train_y, val_y = train_test_split(X,y,random_state=0)"
      ],
      "execution_count": 10,
      "outputs": []
    },
    {
      "cell_type": "code",
      "metadata": {
        "colab": {
          "base_uri": "https://localhost:8080/"
        },
        "id": "i6_DLRcTOKAr",
        "outputId": "6bacbf16-ebb9-4cc7-b758-dfc14ce82161"
      },
      "source": [
        "for max_leaf_nodes in [5,50,500,5000]:\n",
        "  my_mae=get_mae(max_leaf_nodes, train_X, val_X, train_y, val_y)\n",
        "  print(\"Max leaf nodes: %d  \\t\\t Mean Absolute Error:  %d\" %(max_leaf_nodes, my_mae))"
      ],
      "execution_count": 11,
      "outputs": [
        {
          "output_type": "stream",
          "text": [
            "Max leaf nodes: 5  \t\t Mean Absolute Error:  347380\n",
            "Max leaf nodes: 50  \t\t Mean Absolute Error:  258171\n",
            "Max leaf nodes: 500  \t\t Mean Absolute Error:  243495\n",
            "Max leaf nodes: 5000  \t\t Mean Absolute Error:  254983\n"
          ],
          "name": "stdout"
        }
      ]
    }
  ]
}