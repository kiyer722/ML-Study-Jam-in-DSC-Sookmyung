{
  "nbformat": 4,
  "nbformat_minor": 0,
  "metadata": {
    "colab": {
      "name": "Model Validation",
      "provenance": [],
      "toc_visible": true,
      "authorship_tag": "ABX9TyOhZnE2IU89YeT2z9KwfLr7"
    },
    "kernelspec": {
      "name": "python3",
      "display_name": "Python 3"
    },
    "language_info": {
      "name": "python"
    }
  },
  "cells": [
    {
      "cell_type": "code",
      "metadata": {
        "id": "PO5GrHbpw2W7"
      },
      "source": [
        "#본 내용은 kaggle Intro to Machine Learning course(by Dan Becker)를 기록해 놓은 것임을 밝힙니다. (https://www.kaggle.com/dansbecker/basic-data-exploration)"
      ],
      "execution_count": 1,
      "outputs": []
    },
    {
      "cell_type": "code",
      "metadata": {
        "colab": {
          "base_uri": "https://localhost:8080/"
        },
        "id": "x1sIS4xDw5f6",
        "outputId": "76c3f6e5-8380-4397-88d2-ddc63fd22f89"
      },
      "source": [
        "from google.colab import drive \n",
        "drive.mount('/content/drive')\n",
        "#구글 코랩환경 드라이브 연결"
      ],
      "execution_count": 2,
      "outputs": [
        {
          "output_type": "stream",
          "text": [
            "Mounted at /content/drive\n"
          ],
          "name": "stdout"
        }
      ]
    },
    {
      "cell_type": "markdown",
      "metadata": {
        "id": "1ymNfFRuuTBG"
      },
      "source": [
        "# What is Model Validation"
      ]
    },
    {
      "cell_type": "markdown",
      "metadata": {
        "id": "z_e8N0DOut2o"
      },
      "source": [
        "Mean Absolute Error(MAE): error=actual−predicted"
      ]
    },
    {
      "cell_type": "code",
      "metadata": {
        "colab": {
          "base_uri": "https://localhost:8080/"
        },
        "id": "oLyLe5LkpfSi",
        "outputId": "38721ae5-db93-4dfc-e589-5e1283f437ad"
      },
      "source": [
        "import pandas as pd\n",
        "\n",
        "melbourne_file_path = '/content/drive/MyDrive/Intro to Machine Learning(kaggle)/data/melb_data.csv'\n",
        "melbourne_data = pd.read_csv(melbourne_file_path) \n",
        "\n",
        "filtered_melbourne_data = melbourne_data.dropna(axis=0)\n",
        "\n",
        "y = filtered_melbourne_data.Price\n",
        "melbourne_features = ['Rooms', 'Bathroom', 'Landsize', 'BuildingArea', \n",
        "                        'YearBuilt', 'Lattitude', 'Longtitude']\n",
        "X = filtered_melbourne_data[melbourne_features]\n",
        "\n",
        "from sklearn.tree import DecisionTreeRegressor\n",
        "melbourne_model = DecisionTreeRegressor()\n",
        "melbourne_model.fit(X, y)"
      ],
      "execution_count": 3,
      "outputs": [
        {
          "output_type": "execute_result",
          "data": {
            "text/plain": [
              "DecisionTreeRegressor(ccp_alpha=0.0, criterion='mse', max_depth=None,\n",
              "                      max_features=None, max_leaf_nodes=None,\n",
              "                      min_impurity_decrease=0.0, min_impurity_split=None,\n",
              "                      min_samples_leaf=1, min_samples_split=2,\n",
              "                      min_weight_fraction_leaf=0.0, presort='deprecated',\n",
              "                      random_state=None, splitter='best')"
            ]
          },
          "metadata": {
            "tags": []
          },
          "execution_count": 3
        }
      ]
    },
    {
      "cell_type": "code",
      "metadata": {
        "colab": {
          "base_uri": "https://localhost:8080/"
        },
        "id": "i3XsWEIdxVCA",
        "outputId": "d3ba132c-048d-4c2d-b4cc-17a0353b4950"
      },
      "source": [
        "#MAE 계산\n",
        "from sklearn.metrics import mean_absolute_error\n",
        "\n",
        "predicted_home_prices = melbourne_model.predict(X)\n",
        "mean_absolute_error(y, predicted_home_prices)"
      ],
      "execution_count": 4,
      "outputs": [
        {
          "output_type": "execute_result",
          "data": {
            "text/plain": [
              "434.71594577146544"
            ]
          },
          "metadata": {
            "tags": []
          },
          "execution_count": 4
        }
      ]
    },
    {
      "cell_type": "markdown",
      "metadata": {
        "id": "GPTZOijuyF4u"
      },
      "source": [
        "# The Problem with \"In-Sample\" Scores"
      ]
    },
    {
      "cell_type": "markdown",
      "metadata": {
        "id": "3GhnrnRYzDOk"
      },
      "source": [
        "표본 내 점수는 새 데이터가 train한 표본의 데이터와 다른 패턴을 가진다면 모형이 부정확을 제대로 파악할 수 없다. 따라서 validation data를 통해 모형의 정확도를 테스트한다."
      ]
    },
    {
      "cell_type": "markdown",
      "metadata": {
        "id": "21SkCfrzzo1k"
      },
      "source": [
        "# Coding It"
      ]
    },
    {
      "cell_type": "code",
      "metadata": {
        "colab": {
          "base_uri": "https://localhost:8080/"
        },
        "id": "Y_LP-vUlyG_6",
        "outputId": "f03ce019-1af9-4b24-f252-18cbd46f3862"
      },
      "source": [
        "from sklearn.model_selection import train_test_split\n",
        "\n",
        "# training data, validation data 모두를 features 와 target으로 분할ation data 모두를 features 와 target으로 분할 \n",
        "train_X, val_X, train_y, val_y = train_test_split(X, y, random_state = 0)\n",
        "melbourne_model = DecisionTreeRegressor() #모델 정의\n",
        "melbourne_model.fit(train_X, train_y)\n",
        "\n",
        "#validation data로 정확도 점수 받기\n",
        "val_predictions = melbourne_model.predict(val_X)\n",
        "print(mean_absolute_error(val_y, val_predictions))"
      ],
      "execution_count": 5,
      "outputs": [
        {
          "output_type": "stream",
          "text": [
            "259400.22466107167\n"
          ],
          "name": "stdout"
        }
      ]
    }
  ]
}