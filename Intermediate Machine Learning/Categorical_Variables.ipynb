{
  "nbformat": 4,
  "nbformat_minor": 0,
  "metadata": {
    "colab": {
      "name": " Categorical Variables",
      "provenance": [],
      "authorship_tag": "ABX9TyPOg4DxLib4w1x3QJYRIEM4"
    },
    "kernelspec": {
      "name": "python3",
      "display_name": "Python 3"
    },
    "language_info": {
      "name": "python"
    }
  },
  "cells": [
    {
      "cell_type": "code",
      "metadata": {
        "id": "PTyQW8lt-byL"
      },
      "source": [
        "#본 내용은 kaggle Intermediate Machine Learning course(by Alexis Cook)를 기록해 놓은 것임을 밝힙니다. (https://www.kaggle.com/learn/intermediate-machine-learning)"
      ],
      "execution_count": null,
      "outputs": []
    },
    {
      "cell_type": "code",
      "metadata": {
        "colab": {
          "base_uri": "https://localhost:8080/"
        },
        "id": "PHqMgAKN_Yue",
        "outputId": "fb090540-ff54-44a0-d606-1c0cc1b09549"
      },
      "source": [
        "from google.colab import drive \n",
        "drive.mount('/content/drive')\n",
        "#구글 코랩환경 드라이브 연결"
      ],
      "execution_count": 1,
      "outputs": [
        {
          "output_type": "stream",
          "text": [
            "Mounted at /content/drive\n"
          ],
          "name": "stdout"
        }
      ]
    },
    {
      "cell_type": "markdown",
      "metadata": {
        "id": "PH9RyzBg_SXG"
      },
      "source": [
        "**categorical variable를 ML 모델에 연결시킬 때 필요한 세가지 준비 방법**"
      ]
    },
    {
      "cell_type": "markdown",
      "metadata": {
        "id": "TM_1pf_D_xMe"
      },
      "source": [
        "1) Drop Categorical Variables \n",
        "\n",
        "간단하게 Drop해주는 방법. 당연히 열에 유용한 정보가 포함되어 있지 않을때만 사용 가능합니다.\n",
        "\n",
        "2) Label Encoding\n",
        "\n",
        "각 고유값을 다른 정수에 할당하는 방법. 범주의 순서를 고려한다. decision trees and random forests와 같은 트리 기반 모델 에서 다른 순서가 있는 변수와 잘 작동할 수 있습니다.\n",
        "\n",
        "3) One-Hot Encoding\n",
        "\n",
        "이 변수가 있는지(1) 없는지(0)를 나타내는 새로운 열을 생성하는 방법. 범주의 순서를 고려하지 않습니다. 범주형 데이터에 명확한 순서관계가 드러나지 않은경우 잘 작동할 수 있습니다. 물론 열을 새로 만들기 때문에 범주형 변수가 많은 값(15이상)을 차지하면 제대로 수행되지 않습니다.\n",
        "\n",
        "\n",
        "\n",
        "\n",
        "\n",
        "\n"
      ]
    },
    {
      "cell_type": "markdown",
      "metadata": {
        "id": "J-8GQjyiDrdZ"
      },
      "source": [
        "**Example**"
      ]
    },
    {
      "cell_type": "code",
      "metadata": {
        "colab": {
          "base_uri": "https://localhost:8080/"
        },
        "id": "od5MYUEYDzg7",
        "outputId": "fc410f16-4ffc-4292-c51f-2c0aa031bed7"
      },
      "source": [
        "import pandas as pd\n",
        "from sklearn.model_selection import train_test_split\n",
        "#데이터 불러오기\n",
        "data=pd.read_csv('/content/drive/MyDrive/ML-Study-Jam-in-DSC-Sookmyung/Intermediate Machine Learning/data/melb_data.csv')\n",
        "\n",
        "y=data.Price\n",
        "X=data.drop(['Price'],axis=1)\n",
        "#training and validation subsets으로 나누기\n",
        "X_train_full, X_valid_full, y_train, y_valid=train_test_split(X,y,train_size=0.8,test_size=0.2,random_state=0)\n",
        "#결측치가 있는 열을 drop합니다.\n",
        "cols_with_missing =[col for col in X_train_full.columns if X_train_full[col].isnull().any()]\n",
        "X_train_full.drop(cols_with_missing, axis=1, inplace=True)\n",
        "X_valid_full.drop(cols_with_missing, axis=1, inplace=True)\n",
        "#상대적으로 low cardinality을 가진 categorical columns을 선택합니다.(임의로 선택한 것으로 편리하긴 합니다.)\n",
        "low_cardinality_cols=[cname for cname in X_train_full.columns if X_train_full[cname].nunique()<10 and X_train_full[cname].dtype=='object']\n",
        "#숫자타입의 열을 선택합니다.\n",
        "numerical_cols=[cname for cname in X_train_full.columns if X_train_full[cname].dtype in ['int64','float64']]\n",
        "\n",
        "my_cols=low_cardinality_cols + numerical_cols\n",
        "X_train=X_train_full[my_cols].copy()\n",
        "X_valid=X_valid_full[my_cols].copy()"
      ],
      "execution_count": 8,
      "outputs": [
        {
          "output_type": "stream",
          "text": [
            "/usr/local/lib/python3.7/dist-packages/pandas/core/frame.py:4174: SettingWithCopyWarning: \n",
            "A value is trying to be set on a copy of a slice from a DataFrame\n",
            "\n",
            "See the caveats in the documentation: https://pandas.pydata.org/pandas-docs/stable/user_guide/indexing.html#returning-a-view-versus-a-copy\n",
            "  errors=errors,\n"
          ],
          "name": "stderr"
        }
      ]
    },
    {
      "cell_type": "code",
      "metadata": {
        "colab": {
          "base_uri": "https://localhost:8080/",
          "height": 191
        },
        "id": "EybIhSn3IyU5",
        "outputId": "0a6b2bf3-86cb-4040-fdfb-ea27ba7edb12"
      },
      "source": [
        "X_train.head()"
      ],
      "execution_count": 9,
      "outputs": [
        {
          "output_type": "execute_result",
          "data": {
            "text/html": [
              "<div>\n",
              "<style scoped>\n",
              "    .dataframe tbody tr th:only-of-type {\n",
              "        vertical-align: middle;\n",
              "    }\n",
              "\n",
              "    .dataframe tbody tr th {\n",
              "        vertical-align: top;\n",
              "    }\n",
              "\n",
              "    .dataframe thead th {\n",
              "        text-align: right;\n",
              "    }\n",
              "</style>\n",
              "<table border=\"1\" class=\"dataframe\">\n",
              "  <thead>\n",
              "    <tr style=\"text-align: right;\">\n",
              "      <th></th>\n",
              "      <th>Type</th>\n",
              "      <th>Method</th>\n",
              "      <th>Regionname</th>\n",
              "      <th>Rooms</th>\n",
              "      <th>Distance</th>\n",
              "      <th>Postcode</th>\n",
              "      <th>Bedroom2</th>\n",
              "      <th>Bathroom</th>\n",
              "      <th>Landsize</th>\n",
              "      <th>Lattitude</th>\n",
              "      <th>Longtitude</th>\n",
              "      <th>Propertycount</th>\n",
              "    </tr>\n",
              "  </thead>\n",
              "  <tbody>\n",
              "    <tr>\n",
              "      <th>12167</th>\n",
              "      <td>u</td>\n",
              "      <td>S</td>\n",
              "      <td>Southern Metropolitan</td>\n",
              "      <td>1</td>\n",
              "      <td>5.0</td>\n",
              "      <td>3182.0</td>\n",
              "      <td>1.0</td>\n",
              "      <td>1.0</td>\n",
              "      <td>0.0</td>\n",
              "      <td>-37.85984</td>\n",
              "      <td>144.9867</td>\n",
              "      <td>13240.0</td>\n",
              "    </tr>\n",
              "    <tr>\n",
              "      <th>6524</th>\n",
              "      <td>h</td>\n",
              "      <td>SA</td>\n",
              "      <td>Western Metropolitan</td>\n",
              "      <td>2</td>\n",
              "      <td>8.0</td>\n",
              "      <td>3016.0</td>\n",
              "      <td>2.0</td>\n",
              "      <td>2.0</td>\n",
              "      <td>193.0</td>\n",
              "      <td>-37.85800</td>\n",
              "      <td>144.9005</td>\n",
              "      <td>6380.0</td>\n",
              "    </tr>\n",
              "    <tr>\n",
              "      <th>8413</th>\n",
              "      <td>h</td>\n",
              "      <td>S</td>\n",
              "      <td>Western Metropolitan</td>\n",
              "      <td>3</td>\n",
              "      <td>12.6</td>\n",
              "      <td>3020.0</td>\n",
              "      <td>3.0</td>\n",
              "      <td>1.0</td>\n",
              "      <td>555.0</td>\n",
              "      <td>-37.79880</td>\n",
              "      <td>144.8220</td>\n",
              "      <td>3755.0</td>\n",
              "    </tr>\n",
              "    <tr>\n",
              "      <th>2919</th>\n",
              "      <td>u</td>\n",
              "      <td>SP</td>\n",
              "      <td>Northern Metropolitan</td>\n",
              "      <td>3</td>\n",
              "      <td>13.0</td>\n",
              "      <td>3046.0</td>\n",
              "      <td>3.0</td>\n",
              "      <td>1.0</td>\n",
              "      <td>265.0</td>\n",
              "      <td>-37.70830</td>\n",
              "      <td>144.9158</td>\n",
              "      <td>8870.0</td>\n",
              "    </tr>\n",
              "    <tr>\n",
              "      <th>6043</th>\n",
              "      <td>h</td>\n",
              "      <td>S</td>\n",
              "      <td>Western Metropolitan</td>\n",
              "      <td>3</td>\n",
              "      <td>13.3</td>\n",
              "      <td>3020.0</td>\n",
              "      <td>3.0</td>\n",
              "      <td>1.0</td>\n",
              "      <td>673.0</td>\n",
              "      <td>-37.76230</td>\n",
              "      <td>144.8272</td>\n",
              "      <td>4217.0</td>\n",
              "    </tr>\n",
              "  </tbody>\n",
              "</table>\n",
              "</div>"
            ],
            "text/plain": [
              "      Type Method             Regionname  ...  Lattitude  Longtitude  Propertycount\n",
              "12167    u      S  Southern Metropolitan  ...  -37.85984    144.9867        13240.0\n",
              "6524     h     SA   Western Metropolitan  ...  -37.85800    144.9005         6380.0\n",
              "8413     h      S   Western Metropolitan  ...  -37.79880    144.8220         3755.0\n",
              "2919     u     SP  Northern Metropolitan  ...  -37.70830    144.9158         8870.0\n",
              "6043     h      S   Western Metropolitan  ...  -37.76230    144.8272         4217.0\n",
              "\n",
              "[5 rows x 12 columns]"
            ]
          },
          "metadata": {
            "tags": []
          },
          "execution_count": 9
        }
      ]
    },
    {
      "cell_type": "code",
      "metadata": {
        "colab": {
          "base_uri": "https://localhost:8080/"
        },
        "id": "nIbuguFJI_cq",
        "outputId": "b5b6a222-418e-41fd-c5b7-8990ac354a90"
      },
      "source": [
        "#categorical variables의 리스트를 가져옵니다\n",
        "s=(X_train.dtypes=='object')\n",
        "object_cols = list(s[s].index)\n",
        "\n",
        "print(\"Categorical variables:\")\n",
        "print(object_cols)"
      ],
      "execution_count": 10,
      "outputs": [
        {
          "output_type": "stream",
          "text": [
            "Categorical variables:\n",
            "['Type', 'Method', 'Regionname']\n"
          ],
          "name": "stdout"
        }
      ]
    },
    {
      "cell_type": "code",
      "metadata": {
        "id": "J3YYR9neJgT2"
      },
      "source": [
        "#정확도 판단을 위해 MAE기반 score함수를 작성하는 부분\n",
        "from sklearn.ensemble import RandomForestRegressor\n",
        "from sklearn.metrics import mean_absolute_error\n",
        "\n",
        "def score_dataset(X_train, X_valid, y_train, y_valid):\n",
        "  model=RandomForestRegressor(n_estimators=100, random_state=0)\n",
        "  model.fit(X_train, y_train)\n",
        "  preds=model.predict(X_valid)\n",
        "  return mean_absolute_error(y_valid,preds)"
      ],
      "execution_count": 13,
      "outputs": []
    },
    {
      "cell_type": "code",
      "metadata": {
        "colab": {
          "base_uri": "https://localhost:8080/"
        },
        "id": "iG6k_IplKXFh",
        "outputId": "28b70c7e-89ca-4e82-98f7-9b367e0c5f00"
      },
      "source": [
        "#Drop Categorical Variables 방법에서 정확도\n",
        "drop_X_train=X_train.select_dtypes(exclude=['object'])\n",
        "drop_X_valid=X_valid.select_dtypes(exclude=['object'])\n",
        "\n",
        "print(\"MAE from Approach 1 (Drop categorical variables):\")\n",
        "print(score_dataset(drop_X_train, drop_X_valid, y_train, y_valid))"
      ],
      "execution_count": 14,
      "outputs": [
        {
          "output_type": "stream",
          "text": [
            "MAE from Approach 1 (Drop categorical variables):\n",
            "175703.48185157913\n"
          ],
          "name": "stdout"
        }
      ]
    },
    {
      "cell_type": "code",
      "metadata": {
        "colab": {
          "base_uri": "https://localhost:8080/"
        },
        "id": "fzUb0i-RMNut",
        "outputId": "0344b252-8b24-4055-f7e2-5e792e6faefd"
      },
      "source": [
        "#Label Encoding 방법에서 정확도\n",
        "from sklearn.preprocessing import LabelEncoder\n",
        "\n",
        "label_X_train=X_train.copy()\n",
        "label_X_valid=X_valid.copy()\n",
        "\n",
        "label_encoder=LabelEncoder()\n",
        "for col in object_cols:\n",
        "  label_X_train[col]=label_encoder.fit_transform(X_train[col])\n",
        "  label_X_valid[col]=label_encoder.transform(X_valid[col])\n",
        "\n",
        "print(\"MAE from Approach 2 (Label Encoding):\")\n",
        "print(score_dataset(label_X_train, label_X_valid, y_train, y_valid))\n",
        "#임의로 정수를 할당했기 때문에, 사용자가 정의한 label 일때 더 나은 성능을 기대할 수 있습니다."
      ],
      "execution_count": 15,
      "outputs": [
        {
          "output_type": "stream",
          "text": [
            "MAE from Approach 2 (Label Encoding):\n",
            "165936.40548390493\n"
          ],
          "name": "stdout"
        }
      ]
    },
    {
      "cell_type": "code",
      "metadata": {
        "colab": {
          "base_uri": "https://localhost:8080/"
        },
        "id": "ydcbXMOONU61",
        "outputId": "696c229f-a99b-4f89-fbe4-bbe595d045ee"
      },
      "source": [
        "#One-Hot Encoding 방법에서 정확도\n",
        "from sklearn.preprocessing import OneHotEncoder\n",
        "\n",
        "OH_encoder = OneHotEncoder(handle_unknown='ignore', sparse=False)\n",
        "OH_cols_train = pd.DataFrame(OH_encoder.fit_transform(X_train[object_cols]))\n",
        "OH_cols_valid = pd.DataFrame(OH_encoder.transform(X_valid[object_cols]))\n",
        "\n",
        "OH_cols_train.index = X_train.index\n",
        "OH_cols_valid.index = X_valid.index\n",
        "\n",
        "num_X_train = X_train.drop(object_cols, axis=1)\n",
        "num_X_valid = X_valid.drop(object_cols, axis=1)\n",
        "\n",
        "OH_X_train = pd.concat([num_X_train, OH_cols_train], axis=1)\n",
        "OH_X_valid = pd.concat([num_X_valid, OH_cols_valid], axis=1)\n",
        "\n",
        "print(\"MAE from Approach 3 (One-Hot Encoding):\") \n",
        "print(score_dataset(OH_X_train, OH_X_valid, y_train, y_valid))"
      ],
      "execution_count": 17,
      "outputs": [
        {
          "output_type": "stream",
          "text": [
            "MAE from Approach 3 (One-Hot Encoding):\n",
            "166089.4893009678\n"
          ],
          "name": "stdout"
        }
      ]
    }
  ]
}