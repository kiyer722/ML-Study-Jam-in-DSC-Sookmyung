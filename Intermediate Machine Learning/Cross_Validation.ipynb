{
  "nbformat": 4,
  "nbformat_minor": 0,
  "metadata": {
    "colab": {
      "name": "Cross-Validation",
      "provenance": [],
      "authorship_tag": "ABX9TyPfVODn61d9gXMbeGddEWXn"
    },
    "kernelspec": {
      "name": "python3",
      "display_name": "Python 3"
    },
    "language_info": {
      "name": "python"
    }
  },
  "cells": [
    {
      "cell_type": "code",
      "metadata": {
        "id": "QOQaWYJAeHsd"
      },
      "source": [
        "#본 내용은 kaggle Intermediate Machine Learning course(by Alexis Cook)를 기록해 놓은 것임을 밝힙니다. (https://www.kaggle.com/learn/intermediate-machine-learning)"
      ],
      "execution_count": null,
      "outputs": []
    },
    {
      "cell_type": "code",
      "metadata": {
        "colab": {
          "base_uri": "https://localhost:8080/"
        },
        "id": "1JyVYxUReTZK",
        "outputId": "ba8d2dd2-aa9c-4c0f-d59d-4d13b3e6ad8c"
      },
      "source": [
        "from google.colab import drive \n",
        "drive.mount('/content/drive')\n",
        "#구글 코랩환경 드라이브 연결"
      ],
      "execution_count": 1,
      "outputs": [
        {
          "output_type": "stream",
          "text": [
            "Mounted at /content/drive\n"
          ],
          "name": "stdout"
        }
      ]
    },
    {
      "cell_type": "markdown",
      "metadata": {
        "id": "KvGFbrfueUmj"
      },
      "source": [
        "# **cross-validation(교차검증)**\n",
        "\n",
        "교차 검증에서는 데이터의 여러 하위 집합에 대해 모델링 프로세스를 실행하여 모델 품질의 여러 측도를 얻는다.\n",
        "\n",
        "예를들어 20%씩 5개의 집합으로 각각 나누었을때\n",
        "\n",
        "실험 1에서는 첫번째 fold를 검증세트로 사용하고 다른 모든 데이터를 훈련 데이터로 사용합니다. 이경우 20%의 flod를 기반으로 품질 측정이 가능합니다.\n",
        "\n",
        "실험 2에서는 두번째 fold의 데이터를 보류하고 나머지 데이터를 모델 훈련에 사용합니다. 그리고 또 fold를 기반으로 모형품질의 두번째 추정치를 얻습니다.\n",
        "\n",
        "이를 반복하여 모든 fold를 hold out세트로 활용하여 모든 데이터가 일정 지점에서 hold out으로 사용되게 하고, 모든 행을 기반으로 하는 모델 품질을 측정할 수 있습니다."
      ]
    },
    {
      "cell_type": "markdown",
      "metadata": {
        "id": "bGdOoEUqiDuy"
      },
      "source": [
        "**When should you use cross-validation?**\n",
        "\n",
        "\n",
        "\n",
        "*   장점: 모형 품질의 보다 정확한 측정, 모형 결정을 많이 내릴 경우 유용\n",
        "*   단점: 각 fold마다 하나씩 추정하기 때문에 실행시간이 길어짐\n",
        "\n",
        "사용상황\n",
        "\n",
        "\n",
        "*   계산 부담이 크지 않은 소규모 dataset\n",
        "*   큰 dataset과 작은 dataset을 나누는 기준은 없지만 모델 실행에 몇 분이하의 단위 시간이 걸린다면 교차검증을 사용하는 것이 좋다.\n",
        "*   각 실험이 동일한 결과를 산출한다면 굳이 사용하지 않아도 된다.\n",
        "\n",
        "\n",
        "\n",
        "\n",
        "\n"
      ]
    },
    {
      "cell_type": "code",
      "metadata": {
        "id": "3fMevkYTi2-E"
      },
      "source": [
        "import pandas as pd\n",
        "\n",
        "data=pd.read_csv('/content/drive/MyDrive/ML-Study-Jam-in-DSC-Sookmyung/Intermediate Machine Learning/data/melb_data.csv')\n",
        "\n",
        "cols_to_use=['Rooms','Distance', 'Landsize','BuildingArea','YearBuilt']\n",
        "X=data[cols_to_use]\n",
        "\n",
        "y=data.Price"
      ],
      "execution_count": 2,
      "outputs": []
    },
    {
      "cell_type": "code",
      "metadata": {
        "id": "NwR1Q8-8jVLk"
      },
      "source": [
        "from sklearn.ensemble import RandomForestRegressor\n",
        "from sklearn.pipeline import Pipeline\n",
        "from sklearn.impute import SimpleImputer\n",
        "\n",
        "my_pipeline=Pipeline(steps=[('preprocessor', SimpleImputer()),('model', RandomForestRegressor(n_estimators=50, random_state=0))])"
      ],
      "execution_count": 3,
      "outputs": []
    },
    {
      "cell_type": "code",
      "metadata": {
        "colab": {
          "base_uri": "https://localhost:8080/"
        },
        "id": "Yf3_Vg6pj_jC",
        "outputId": "61f250a7-4674-4ce2-d395-d61f18c33a8d"
      },
      "source": [
        "from sklearn.model_selection import cross_val_score\n",
        "\n",
        "scores= -1*cross_val_score(my_pipeline, X, y, cv=5, scoring='neg_mean_absolute_error')\n",
        "print(\"MAE scores:\\n\", scores)"
      ],
      "execution_count": 4,
      "outputs": [
        {
          "output_type": "stream",
          "text": [
            "MAE scores:\n",
            " [301628.7893587  303164.4782723  287298.331666   236061.84754543\n",
            " 260383.45111427]\n"
          ],
          "name": "stdout"
        }
      ]
    },
    {
      "cell_type": "code",
      "metadata": {
        "colab": {
          "base_uri": "https://localhost:8080/"
        },
        "id": "kNYr1bWvkeOV",
        "outputId": "2e5db6a4-8638-4a81-d576-a85fb56836e7"
      },
      "source": [
        "print(\"Average MAE score (across experiments):\")\n",
        "print(scores.mean())"
      ],
      "execution_count": 5,
      "outputs": [
        {
          "output_type": "stream",
          "text": [
            "Average MAE score (across experiments):\n",
            "277707.3795913405\n"
          ],
          "name": "stdout"
        }
      ]
    }
  ]
}