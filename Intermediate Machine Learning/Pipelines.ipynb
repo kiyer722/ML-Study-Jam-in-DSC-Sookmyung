{
  "nbformat": 4,
  "nbformat_minor": 0,
  "metadata": {
    "colab": {
      "name": "Pipelines",
      "provenance": [],
      "authorship_tag": "ABX9TyO50IQ464vxeyZU8O5u9t1h"
    },
    "kernelspec": {
      "name": "python3",
      "display_name": "Python 3"
    },
    "language_info": {
      "name": "python"
    }
  },
  "cells": [
    {
      "cell_type": "code",
      "metadata": {
        "id": "J9j1ygoyF58P"
      },
      "source": [
        "#본 내용은 kaggle Intermediate Machine Learning course(by Alexis Cook)를 기록해 놓은 것임을 밝힙니다. (https://www.kaggle.com/learn/intermediate-machine-learning)"
      ],
      "execution_count": 1,
      "outputs": []
    },
    {
      "cell_type": "code",
      "metadata": {
        "colab": {
          "base_uri": "https://localhost:8080/"
        },
        "id": "ePU2pmtXGgyC",
        "outputId": "cc347240-2f20-43ca-bb92-c220fdfd08af"
      },
      "source": [
        "from google.colab import drive \n",
        "drive.mount('/content/drive')\n",
        "#구글 코랩환경 드라이브 연결"
      ],
      "execution_count": 2,
      "outputs": [
        {
          "output_type": "stream",
          "text": [
            "Mounted at /content/drive\n"
          ],
          "name": "stdout"
        }
      ]
    },
    {
      "cell_type": "markdown",
      "metadata": {
        "id": "c2tUAJikGvvB"
      },
      "source": [
        "# **Pipelines**\n",
        "\n",
        "파이프라인은 데이터 사전 처리 및 모델링 코드를 정리하는 간단한 방법입니다. 특히 사전처리 및 모델링 단계를 번들로 묶어서 전체 번들을 한 단계처럼 사용할 수 있습니다.\n",
        "\n",
        "1.   Cleaner Code: 각 단계에서 교육 및 검증 데이터를 수동적으로 추적할 필요가 없어집니다.\n",
        "2.   Fewer Bugs: 단계를 잘못 사용하거나 전처리 단계를 잊어버리는 경우가 적어집니다.\n",
        "3.   Easier to Productionize\n",
        "4.   More Options for Model Validation: 교차검증(covers cross-validation)을 다루는 예\n",
        "\n"
      ]
    },
    {
      "cell_type": "code",
      "metadata": {
        "id": "q0dOV6xPMmUQ"
      },
      "source": [
        "import pandas as pd\n",
        "from sklearn.model_selection import train_test_split\n",
        "\n",
        "data=pd.read_csv('/content/drive/MyDrive/ML-Study-Jam-in-DSC-Sookmyung/Intermediate Machine Learning/data/melb_data.csv')\n",
        "\n",
        "y=data.Price\n",
        "X=data.drop(['Price'],axis=1)\n",
        "\n",
        "X_train_full, X_valid_full, y_train, y_valid=train_test_split(X, y, train_size=0.8, test_size=0.2, random_state=0)\n",
        "\n",
        "categorical_cols=[cname for cname in X_train_full.columns if X_train_full[cname].nunique()<10 and X_train_full[cname].dtype == \"object\"]\n",
        "\n",
        "numerical_cols=[cname for cname in X_train_full.columns if X_train_full[cname].dtype in ['int64','float64']]\n",
        "\n",
        "my_cols = categorical_cols + numerical_cols\n",
        "X_train= X_train_full[my_cols].copy()\n",
        "X_valid= X_valid_full[my_cols].copy()"
      ],
      "execution_count": 6,
      "outputs": []
    },
    {
      "cell_type": "code",
      "metadata": {
        "colab": {
          "base_uri": "https://localhost:8080/",
          "height": 292
        },
        "id": "4ja2GN_cOiVt",
        "outputId": "d1128300-fe88-4454-81d3-f553c83acae8"
      },
      "source": [
        "X_train.head()"
      ],
      "execution_count": 7,
      "outputs": [
        {
          "output_type": "execute_result",
          "data": {
            "text/html": [
              "<div>\n",
              "<style scoped>\n",
              "    .dataframe tbody tr th:only-of-type {\n",
              "        vertical-align: middle;\n",
              "    }\n",
              "\n",
              "    .dataframe tbody tr th {\n",
              "        vertical-align: top;\n",
              "    }\n",
              "\n",
              "    .dataframe thead th {\n",
              "        text-align: right;\n",
              "    }\n",
              "</style>\n",
              "<table border=\"1\" class=\"dataframe\">\n",
              "  <thead>\n",
              "    <tr style=\"text-align: right;\">\n",
              "      <th></th>\n",
              "      <th>Type</th>\n",
              "      <th>Method</th>\n",
              "      <th>Regionname</th>\n",
              "      <th>Rooms</th>\n",
              "      <th>Distance</th>\n",
              "      <th>Postcode</th>\n",
              "      <th>Bedroom2</th>\n",
              "      <th>Bathroom</th>\n",
              "      <th>Car</th>\n",
              "      <th>Landsize</th>\n",
              "      <th>BuildingArea</th>\n",
              "      <th>YearBuilt</th>\n",
              "      <th>Lattitude</th>\n",
              "      <th>Longtitude</th>\n",
              "      <th>Propertycount</th>\n",
              "    </tr>\n",
              "  </thead>\n",
              "  <tbody>\n",
              "    <tr>\n",
              "      <th>12167</th>\n",
              "      <td>u</td>\n",
              "      <td>S</td>\n",
              "      <td>Southern Metropolitan</td>\n",
              "      <td>1</td>\n",
              "      <td>5.0</td>\n",
              "      <td>3182.0</td>\n",
              "      <td>1.0</td>\n",
              "      <td>1.0</td>\n",
              "      <td>1.0</td>\n",
              "      <td>0.0</td>\n",
              "      <td>NaN</td>\n",
              "      <td>1940.0</td>\n",
              "      <td>-37.85984</td>\n",
              "      <td>144.9867</td>\n",
              "      <td>13240.0</td>\n",
              "    </tr>\n",
              "    <tr>\n",
              "      <th>6524</th>\n",
              "      <td>h</td>\n",
              "      <td>SA</td>\n",
              "      <td>Western Metropolitan</td>\n",
              "      <td>2</td>\n",
              "      <td>8.0</td>\n",
              "      <td>3016.0</td>\n",
              "      <td>2.0</td>\n",
              "      <td>2.0</td>\n",
              "      <td>1.0</td>\n",
              "      <td>193.0</td>\n",
              "      <td>NaN</td>\n",
              "      <td>NaN</td>\n",
              "      <td>-37.85800</td>\n",
              "      <td>144.9005</td>\n",
              "      <td>6380.0</td>\n",
              "    </tr>\n",
              "    <tr>\n",
              "      <th>8413</th>\n",
              "      <td>h</td>\n",
              "      <td>S</td>\n",
              "      <td>Western Metropolitan</td>\n",
              "      <td>3</td>\n",
              "      <td>12.6</td>\n",
              "      <td>3020.0</td>\n",
              "      <td>3.0</td>\n",
              "      <td>1.0</td>\n",
              "      <td>1.0</td>\n",
              "      <td>555.0</td>\n",
              "      <td>NaN</td>\n",
              "      <td>NaN</td>\n",
              "      <td>-37.79880</td>\n",
              "      <td>144.8220</td>\n",
              "      <td>3755.0</td>\n",
              "    </tr>\n",
              "    <tr>\n",
              "      <th>2919</th>\n",
              "      <td>u</td>\n",
              "      <td>SP</td>\n",
              "      <td>Northern Metropolitan</td>\n",
              "      <td>3</td>\n",
              "      <td>13.0</td>\n",
              "      <td>3046.0</td>\n",
              "      <td>3.0</td>\n",
              "      <td>1.0</td>\n",
              "      <td>1.0</td>\n",
              "      <td>265.0</td>\n",
              "      <td>NaN</td>\n",
              "      <td>1995.0</td>\n",
              "      <td>-37.70830</td>\n",
              "      <td>144.9158</td>\n",
              "      <td>8870.0</td>\n",
              "    </tr>\n",
              "    <tr>\n",
              "      <th>6043</th>\n",
              "      <td>h</td>\n",
              "      <td>S</td>\n",
              "      <td>Western Metropolitan</td>\n",
              "      <td>3</td>\n",
              "      <td>13.3</td>\n",
              "      <td>3020.0</td>\n",
              "      <td>3.0</td>\n",
              "      <td>1.0</td>\n",
              "      <td>2.0</td>\n",
              "      <td>673.0</td>\n",
              "      <td>673.0</td>\n",
              "      <td>1970.0</td>\n",
              "      <td>-37.76230</td>\n",
              "      <td>144.8272</td>\n",
              "      <td>4217.0</td>\n",
              "    </tr>\n",
              "  </tbody>\n",
              "</table>\n",
              "</div>"
            ],
            "text/plain": [
              "      Type Method             Regionname  ...  Lattitude  Longtitude  Propertycount\n",
              "12167    u      S  Southern Metropolitan  ...  -37.85984    144.9867        13240.0\n",
              "6524     h     SA   Western Metropolitan  ...  -37.85800    144.9005         6380.0\n",
              "8413     h      S   Western Metropolitan  ...  -37.79880    144.8220         3755.0\n",
              "2919     u     SP  Northern Metropolitan  ...  -37.70830    144.9158         8870.0\n",
              "6043     h      S   Western Metropolitan  ...  -37.76230    144.8272         4217.0\n",
              "\n",
              "[5 rows x 15 columns]"
            ]
          },
          "metadata": {
            "tags": []
          },
          "execution_count": 7
        }
      ]
    },
    {
      "cell_type": "markdown",
      "metadata": {
        "id": "4dqmBLynPDMZ"
      },
      "source": [
        "**Define Preprocessing Steps**\n",
        "\n",
        "\n",
        "\n",
        "*  imputes missing values in numerical data, and\n",
        "imputes missing values \n",
        "*   and applies a one-hot encoding to categorical data.\n",
        "\n"
      ]
    },
    {
      "cell_type": "code",
      "metadata": {
        "id": "lTZXl60EPXvb"
      },
      "source": [
        "from sklearn.compose import ColumnTransformer\n",
        "from sklearn.pipeline import Pipeline\n",
        "from sklearn.impute import SimpleImputer\n",
        "from sklearn.preprocessing import OneHotEncoder\n",
        "#numerical data 사전처리\n",
        "numerical_transformer = SimpleImputer(strategy='constant')\n",
        "\n",
        "#categorical data 사전처리\n",
        "categorical_transformer = Pipeline(steps=[('imputer', SimpleImputer(strategy='most_frequent')),\n",
        "                                          ('onehot', OneHotEncoder(handle_unknown='ignore'))])\n",
        "\n",
        "#numerical data and categorical data를 번들로 사전처리\n",
        "preprocessor=ColumnTransformer(transformers=[('num',numerical_transformer, numerical_cols),\n",
        "                                             ('cat',categorical_transformer, categorical_cols)])"
      ],
      "execution_count": 8,
      "outputs": []
    },
    {
      "cell_type": "markdown",
      "metadata": {
        "id": "Fiye_XfQRO6z"
      },
      "source": [
        "**Define the Model**"
      ]
    },
    {
      "cell_type": "code",
      "metadata": {
        "id": "c-l3Nu5iRMnI"
      },
      "source": [
        "from sklearn.ensemble import RandomForestRegressor\n",
        "\n",
        "model=RandomForestRegressor(n_estimators=100, random_state=0)"
      ],
      "execution_count": 9,
      "outputs": []
    },
    {
      "cell_type": "markdown",
      "metadata": {
        "id": "vg4p1zoNRgFZ"
      },
      "source": [
        "**Create and Evaluate the Pipeline**\n",
        "\n",
        "Pipeline class를 사용하여 preprocessing and modeling steps의 bundles화 시킴\n",
        "\n",
        "*   With the pipeline, we preprocess the training data and fit the model in a single line of code\n",
        "*   With the pipeline, we supply the unprocessed features in X_valid to the predict() command, and the pipeline automatically preprocesses the features before generating predictions\n",
        "\n"
      ]
    },
    {
      "cell_type": "code",
      "metadata": {
        "colab": {
          "base_uri": "https://localhost:8080/"
        },
        "id": "4iuI5sEsR7Dm",
        "outputId": "59ab6943-3c8e-401a-d226-65496b3b8db6"
      },
      "source": [
        "from sklearn.metrics import  mean_absolute_error\n",
        "\n",
        "my_pipeline=Pipeline(steps=[('preprocessor',preprocessor),('model', model)])\n",
        "\n",
        "my_pipeline.fit(X_train, y_train)\n",
        "\n",
        "preds=my_pipeline.predict(X_valid)\n",
        "\n",
        "score = mean_absolute_error(y_valid,preds)\n",
        "print('MAE:',score)"
      ],
      "execution_count": 11,
      "outputs": [
        {
          "output_type": "stream",
          "text": [
            "MAE: 160679.18917034855\n"
          ],
          "name": "stdout"
        }
      ]
    }
  ]
}