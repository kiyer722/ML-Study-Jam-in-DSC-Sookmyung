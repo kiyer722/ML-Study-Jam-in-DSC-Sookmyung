{
  "nbformat": 4,
  "nbformat_minor": 0,
  "metadata": {
    "colab": {
      "name": "Missing Values",
      "provenance": [],
      "authorship_tag": "ABX9TyOsc3mMjY7gUGrv5PDftAn9"
    },
    "kernelspec": {
      "name": "python3",
      "display_name": "Python 3"
    },
    "language_info": {
      "name": "python"
    }
  },
  "cells": [
    {
      "cell_type": "code",
      "metadata": {
        "id": "1rn7OIIS1uHc"
      },
      "source": [
        "#본 내용은 kaggle Intermediate Machine Learning course(by Alexis Cook)를 기록해 놓은 것임을 밝힙니다. (https://www.kaggle.com/learn/intermediate-machine-learning)"
      ],
      "execution_count": 1,
      "outputs": []
    },
    {
      "cell_type": "code",
      "metadata": {
        "colab": {
          "base_uri": "https://localhost:8080/"
        },
        "id": "qnYVNf7i5cz_",
        "outputId": "6da17703-3276-4d3b-d714-7fe071e34033"
      },
      "source": [
        "from google.colab import drive \n",
        "drive.mount('/content/drive')\n",
        "#구글 코랩환경 드라이브 연결"
      ],
      "execution_count": 2,
      "outputs": [
        {
          "output_type": "stream",
          "text": [
            "Mounted at /content/drive\n"
          ],
          "name": "stdout"
        }
      ]
    },
    {
      "cell_type": "markdown",
      "metadata": {
        "id": "0yFNGV776LCR"
      },
      "source": [
        "\n",
        "\n",
        "1. A Simple Option: Drop Columns with Missing Values) 열을 완전히 삭제하는 방식, 잠재적으로 유용한 data를 삭제할 수 있다.\n",
        "2. A Better Option: Imputation) 결측값을 어떠한 숫자로 채우는 방식 Imputation이 전부 맞진 않지만 열을 삭제하는 것보다 일반적으로 정확하다.\n",
        "3. An Extension To Imputation) 결측값이 있는 행을 고려하여 Imputation 하는 방식, 경우에 따라 정확도를 개선할 수 있다.\n",
        "\n",
        "\n",
        "\n",
        "\n"
      ]
    },
    {
      "cell_type": "markdown",
      "metadata": {
        "id": "KBWqZOZJ767m"
      },
      "source": [
        "# Example"
      ]
    },
    {
      "cell_type": "code",
      "metadata": {
        "id": "5ZTRp0nG6LR_"
      },
      "source": [
        "import pandas as pd\n",
        "from sklearn.model_selection import train_test_split\n",
        "#데이터 불러오기\n",
        "data = pd.read_csv('/content/drive/MyDrive/ML-Study-Jam-in-DSC-Sookmyung/Intermediate Machine Learning/data/melb_data.csv')\n",
        "#타켓변수 설정\n",
        "y = data.Price\n",
        "#숫자 예측 변수만, 단순성 유지 위해\n",
        "melb_predictors = data.drop(['Price'], axis=1)\n",
        "X = melb_predictors.select_dtypes(exclude=['object'])\n",
        "#데이터를 training and validation 집합으로 각각 나눈다.\n",
        "X_train, X_valid, y_train, y_valid = train_test_split(X, y, train_size=0.8, test_size=0.2, random_state=0)"
      ],
      "execution_count": 5,
      "outputs": []
    },
    {
      "cell_type": "code",
      "metadata": {
        "id": "YvG1plxs-jXT"
      },
      "source": [
        "#필요한 라이브러리를 불러오는 부분\n",
        "from sklearn.ensemble import RandomForestRegressor\n",
        "from sklearn.metrics import mean_absolute_error\n",
        "\n",
        "# 접근방식을 비교할 점수방안\n",
        "def score_dataset(X_train, X_valid, y_train, y_valid):\n",
        "    model = RandomForestRegressor(n_estimators=10, random_state=0)\n",
        "    model.fit(X_train, y_train)\n",
        "    preds = model.predict(X_valid)\n",
        "    return mean_absolute_error(y_valid, preds)"
      ],
      "execution_count": 6,
      "outputs": []
    },
    {
      "cell_type": "code",
      "metadata": {
        "colab": {
          "base_uri": "https://localhost:8080/"
        },
        "id": "-DmTzNc6-5SE",
        "outputId": "9ebc29c3-70c2-41d0-907b-977ddd25bc34"
      },
      "source": [
        "#첫번째 방식(Drop Columns with Missing Values)\n",
        "#결측값이 있는 열의 이름을 가져오는 부분\n",
        "cols_with_missing=[col for col in X_train.columns if X_train[col].isnull().any()]\n",
        "#training and validation data의 column들을 삭제하는 부분\n",
        "reduce_X_train=X_train.drop(cols_with_missing, axis=1)\n",
        "reduce_X_valid=X_valid.drop(cols_with_missing, axis=1)\n",
        "\n",
        "print(\"MAE frop Approach 1 (Drop colums with missing values):\")\n",
        "print(score_dataset(reduce_X_train, reduce_X_valid, y_train, y_valid))"
      ],
      "execution_count": 8,
      "outputs": [
        {
          "output_type": "stream",
          "text": [
            "MAE frop Approach 1 (Drop colums with missing values):\n",
            "183550.22137772635\n"
          ],
          "name": "stdout"
        }
      ]
    },
    {
      "cell_type": "code",
      "metadata": {
        "colab": {
          "base_uri": "https://localhost:8080/"
        },
        "id": "q-IRIehgELki",
        "outputId": "5972ae4d-52ef-4553-b144-059d06bf4171"
      },
      "source": [
        "#두번째 방식(Imputation)\n",
        "from sklearn.impute import SimpleImputer\n",
        "#Imputation\n",
        "my_imputer=SimpleImputer()\n",
        "imputed_X_train=pd.DataFrame(my_imputer.fit_transform(X_train))\n",
        "imputed_X_valid=pd.DataFrame(my_imputer.transform(X_valid))\n",
        "#Imputation 열이름을 제거하고 다시 저장하는 부분\n",
        "imputed_X_train.columns=X_train.columns\n",
        "imputed_X_valid.columns=X_valid.columns\n",
        "\n",
        "print(\"MAE from Approach 2 (Imputation):\")\n",
        "print(score_dataset(imputed_X_train, imputed_X_valid, y_train, y_valid))"
      ],
      "execution_count": 9,
      "outputs": [
        {
          "output_type": "stream",
          "text": [
            "MAE from Approach 2 (Imputation):\n",
            "178166.46269899711\n"
          ],
          "name": "stdout"
        }
      ]
    },
    {
      "cell_type": "code",
      "metadata": {
        "colab": {
          "base_uri": "https://localhost:8080/"
        },
        "id": "z_6DOsH6H2h5",
        "outputId": "960867ad-9c02-4393-cf70-ded905bc3e88"
      },
      "source": [
        "#세번째 방식(An Extension to Imputation)\n",
        "#원본 데이터 변화를 막기위해 복제하는 부분\n",
        "X_train_plus=X_train.copy()\n",
        "X_valid_plus=X_valid.copy()\n",
        "#Imputation을 포함함을 나타내는 새 열 만들기\n",
        "for col in cols_with_missing:\n",
        "  X_train_plus[col+'_was_missing']=X_train_plus[col].isnull()\n",
        "  X_valid_plus[col+'_was_missing']=X_valid_plus[col].isnull()\n",
        "#Imputation\n",
        "my_imputer=SimpleImputer()\n",
        "imputed_X_train_plus=pd.DataFrame(my_imputer.fit_transform(X_train_plus))\n",
        "imputed_X_valid_plus=pd.DataFrame(my_imputer.transform(X_valid_plus))\n",
        "# Imputation 열이름을 제거하고 다시 저장하는 부분\n",
        "imputed_X_train_plus.columns=X_train_plus.columns\n",
        "imputed_X_valid_plus.columns=X_valid_plus.columns\n",
        "\n",
        "print(\"MAE from Approach 3 (An Extension to Imputation):\")\n",
        "print(score_dataset(imputed_X_train_plus, imputed_X_valid_plus, y_train, y_valid))"
      ],
      "execution_count": 10,
      "outputs": [
        {
          "output_type": "stream",
          "text": [
            "MAE from Approach 3 (An Extension to Imputation):\n",
            "178927.503183954\n"
          ],
          "name": "stdout"
        }
      ]
    },
    {
      "cell_type": "markdown",
      "metadata": {
        "id": "0GkTAiu8KFbL"
      },
      "source": [
        "왜 imputation 방식이 dropping the columns 방식보다 더 나은 결과를 보여준 것인가?"
      ]
    },
    {
      "cell_type": "code",
      "metadata": {
        "colab": {
          "base_uri": "https://localhost:8080/"
        },
        "id": "OaCpl8faKMxb",
        "outputId": "5ee64d4d-09a5-4652-df41-737f4b3c6301"
      },
      "source": [
        "print(X_train.shape)\n",
        "\n",
        "missing_val_count_by_column=(X_train.isnull().sum())\n",
        "print(missing_val_count_by_column[missing_val_count_by_column>0])"
      ],
      "execution_count": 11,
      "outputs": [
        {
          "output_type": "stream",
          "text": [
            "(10864, 12)\n",
            "Car               49\n",
            "BuildingArea    5156\n",
            "YearBuilt       4307\n",
            "dtype: int64\n"
          ],
          "name": "stdout"
        }
      ]
    },
    {
      "cell_type": "markdown",
      "metadata": {
        "id": "vQkP5yBSK1Jw"
      },
      "source": [
        "3개의 column에서 결측값이 있었는데 그중 2개가 5000개가 넘는 결측값이 있어서 유용한 정보를 많이 버린것이 되었다."
      ]
    }
  ]
}